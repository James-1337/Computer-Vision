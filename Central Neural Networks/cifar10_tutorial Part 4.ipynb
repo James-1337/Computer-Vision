{
 "cells": [
  {
   "cell_type": "code",
   "execution_count": 1,
   "metadata": {
    "collapsed": false,
    "jupyter": {
     "outputs_hidden": false
    }
   },
   "outputs": [],
   "source": [
    "%matplotlib inline"
   ]
  },
  {
   "cell_type": "code",
   "execution_count": 2,
   "metadata": {
    "collapsed": false,
    "jupyter": {
     "outputs_hidden": false
    }
   },
   "outputs": [],
   "source": [
    "import torch\n",
    "import torchvision\n",
    "import torchvision.transforms as transforms\n",
    "import matplotlib.pyplot as plt"
   ]
  },
  {
   "cell_type": "code",
   "execution_count": 3,
   "metadata": {
    "collapsed": false,
    "jupyter": {
     "outputs_hidden": false
    }
   },
   "outputs": [
    {
     "name": "stdout",
     "output_type": "stream",
     "text": [
      "Files already downloaded and verified\n",
      "Files already downloaded and verified\n"
     ]
    }
   ],
   "source": [
    "transform = transforms.Compose(\n",
    "    [transforms.ToTensor(),\n",
    "     transforms.Normalize((0.5, 0.5, 0.5), (0.5, 0.5, 0.5))])\n",
    "\n",
    "batch_size = 4\n",
    "\n",
    "trainset = torchvision.datasets.CIFAR10(root='./data', train=True,\n",
    "                                        download=True, transform=transform)\n",
    "trainloader = torch.utils.data.DataLoader(trainset, batch_size=batch_size,\n",
    "                                          shuffle=True, num_workers=2)\n",
    "\n",
    "testset = torchvision.datasets.CIFAR10(root='./data', train=False,\n",
    "                                       download=True, transform=transform)\n",
    "testloader = torch.utils.data.DataLoader(testset, batch_size=batch_size,\n",
    "                                         shuffle=False, num_workers=2)\n",
    "\n",
    "classes = ('plane', 'car', 'bird', 'cat',\n",
    "           'deer', 'dog', 'frog', 'horse', 'ship', 'truck')"
   ]
  },
  {
   "cell_type": "code",
   "execution_count": 4,
   "metadata": {
    "collapsed": false,
    "jupyter": {
     "outputs_hidden": false
    }
   },
   "outputs": [
    {
     "data": {
      "image/png": "[encoded data removed]",
      "text/plain": [
       "<Figure size 640x480 with 1 Axes>"
      ]
     },
     "metadata": {},
     "output_type": "display_data"
    },
    {
     "name": "stdout",
     "output_type": "stream",
     "text": [
      "frog  truck frog  ship \n"
     ]
    }
   ],
   "source": [
    "import matplotlib.pyplot as plt\n",
    "import numpy as np\n",
    "\n",
    "# functions to show an image\n",
    "\n",
    "\n",
    "def imshow(img):\n",
    "    img = img / 2 + 0.5     # unnormalize\n",
    "    npimg = img.numpy()\n",
    "    plt.imshow(np.transpose(npimg, (1, 2, 0)))\n",
    "    plt.show()\n",
    "\n",
    "\n",
    "# get some random training images\n",
    "dataiter = iter(trainloader)\n",
    "images, labels = next(dataiter)\n",
    "\n",
    "# show images\n",
    "imshow(torchvision.utils.make_grid(images))\n",
    "# print labels\n",
    "print(' '.join(f'{classes[labels[j]]:5s}' for j in range(batch_size)))"
   ]
  },
  {
   "cell_type": "code",
   "execution_count": 5,
   "metadata": {
    "collapsed": false,
    "jupyter": {
     "outputs_hidden": false
    }
   },
   "outputs": [],
   "source": [
    "import torch.nn as nn\n",
    "import torch.nn.functional as F\n",
    "\n",
    "# Use multiple layers alongside convolution layers beforehand to transition from input to 110 neurons to 74 neurons to 10 neurons\n",
    "class Net(nn.Module):\n",
    "    def __init__(self):\n",
    "        super().__init__()\n",
    "        self.conv1 = nn.Conv2d(3, 6, 5)\n",
    "        self.pool = nn.MaxPool2d(2, 2)\n",
    "        self.conv2 = nn.Conv2d(6, 16, 5)\n",
    "        self.fc1 = nn.Linear(16 * 5 * 5, 110)\n",
    "        self.fc2 = nn.Linear(110, 74)\n",
    "        self.fc3 = nn.Linear(74, 10)\n",
    "\n",
    "    def forward(self, x):\n",
    "        x = self.pool(F.relu(self.conv1(x)))\n",
    "        x = self.pool(F.relu(self.conv2(x)))\n",
    "        x = torch.flatten(x, 1) # flatten all dimensions except batch\n",
    "        x = F.relu(self.fc1(x))\n",
    "        x = F.relu(self.fc2(x))\n",
    "        x = self.fc3(x)\n",
    "        return x\n",
    "\n",
    "\n",
    "net = Net()"
   ]
  },
  {
   "cell_type": "code",
   "execution_count": 6,
   "metadata": {
    "collapsed": false,
    "jupyter": {
     "outputs_hidden": false
    }
   },
   "outputs": [],
   "source": [
    "import torch.optim as optim\n",
    "\n",
    "criterion = nn.CrossEntropyLoss()\n",
    "optimizer = optim.SGD(net.parameters(), lr=0.001, momentum=0.9)"
   ]
  },
  {
   "cell_type": "code",
   "execution_count": 7,
   "metadata": {},
   "outputs": [],
   "source": [
    "# Lists to store metrics for plotting\n",
    "loss_metric = []\n",
    "training_accuracy = []\n",
    "test_accuracy = []"
   ]
  },
  {
   "cell_type": "code",
   "execution_count": 8,
   "metadata": {
    "collapsed": false,
    "jupyter": {
     "outputs_hidden": false
    }
   },
   "outputs": [
    {
     "name": "stdout",
     "output_type": "stream",
     "text": [
      "[1,  2000] loss: 2.242\n",
      "[1,  4000] loss: 1.933\n",
      "[1,  6000] loss: 1.717\n",
      "[1,  8000] loss: 1.604\n",
      "[1, 10000] loss: 1.520\n",
      "[1, 12000] loss: 1.488\n",
      "[2,  2000] loss: 1.433\n",
      "[2,  4000] loss: 1.383\n",
      "[2,  6000] loss: 1.363\n",
      "[2,  8000] loss: 1.327\n",
      "[2, 10000] loss: 1.300\n",
      "[2, 12000] loss: 1.299\n",
      "[3,  2000] loss: 1.231\n",
      "[3,  4000] loss: 1.221\n",
      "[3,  6000] loss: 1.210\n",
      "[3,  8000] loss: 1.214\n",
      "[3, 10000] loss: 1.172\n",
      "[3, 12000] loss: 1.175\n",
      "[4,  2000] loss: 1.086\n",
      "[4,  4000] loss: 1.122\n",
      "[4,  6000] loss: 1.117\n",
      "[4,  8000] loss: 1.118\n",
      "[4, 10000] loss: 1.098\n",
      "[4, 12000] loss: 1.096\n",
      "[5,  2000] loss: 1.029\n",
      "[5,  4000] loss: 1.038\n",
      "[5,  6000] loss: 1.037\n",
      "[5,  8000] loss: 1.044\n",
      "[5, 10000] loss: 1.021\n",
      "[5, 12000] loss: 1.045\n",
      "[6,  2000] loss: 0.963\n",
      "[6,  4000] loss: 0.971\n",
      "[6,  6000] loss: 0.971\n",
      "[6,  8000] loss: 0.975\n",
      "[6, 10000] loss: 0.978\n",
      "[6, 12000] loss: 1.017\n",
      "[7,  2000] loss: 0.897\n",
      "[7,  4000] loss: 0.916\n",
      "[7,  6000] loss: 0.948\n",
      "[7,  8000] loss: 0.940\n",
      "[7, 10000] loss: 0.952\n",
      "[7, 12000] loss: 0.933\n",
      "[8,  2000] loss: 0.848\n",
      "[8,  4000] loss: 0.894\n",
      "[8,  6000] loss: 0.879\n",
      "[8,  8000] loss: 0.924\n",
      "[8, 10000] loss: 0.900\n",
      "[8, 12000] loss: 0.909\n",
      "[9,  2000] loss: 0.837\n",
      "[9,  4000] loss: 0.834\n",
      "[9,  6000] loss: 0.869\n",
      "[9,  8000] loss: 0.855\n",
      "[9, 10000] loss: 0.902\n",
      "[9, 12000] loss: 0.888\n",
      "[10,  2000] loss: 0.787\n",
      "[10,  4000] loss: 0.813\n",
      "[10,  6000] loss: 0.819\n",
      "[10,  8000] loss: 0.843\n",
      "[10, 10000] loss: 0.859\n",
      "[10, 12000] loss: 0.848\n",
      "[11,  2000] loss: 0.762\n",
      "[11,  4000] loss: 0.768\n",
      "[11,  6000] loss: 0.830\n",
      "[11,  8000] loss: 0.798\n",
      "[11, 10000] loss: 0.844\n",
      "[11, 12000] loss: 0.855\n",
      "[12,  2000] loss: 0.737\n",
      "[12,  4000] loss: 0.748\n",
      "[12,  6000] loss: 0.782\n",
      "[12,  8000] loss: 0.791\n",
      "[12, 10000] loss: 0.823\n",
      "[12, 12000] loss: 0.821\n",
      "[13,  2000] loss: 0.715\n",
      "[13,  4000] loss: 0.728\n",
      "[13,  6000] loss: 0.760\n",
      "[13,  8000] loss: 0.788\n",
      "[13, 10000] loss: 0.785\n",
      "[13, 12000] loss: 0.806\n",
      "[14,  2000] loss: 0.682\n",
      "[14,  4000] loss: 0.734\n",
      "[14,  6000] loss: 0.740\n",
      "[14,  8000] loss: 0.770\n",
      "[14, 10000] loss: 0.763\n",
      "[14, 12000] loss: 0.779\n",
      "[15,  2000] loss: 0.649\n",
      "[15,  4000] loss: 0.700\n",
      "[15,  6000] loss: 0.741\n",
      "[15,  8000] loss: 0.756\n",
      "[15, 10000] loss: 0.755\n",
      "[15, 12000] loss: 0.762\n",
      "[16,  2000] loss: 0.662\n",
      "[16,  4000] loss: 0.701\n",
      "[16,  6000] loss: 0.728\n",
      "[16,  8000] loss: 0.715\n",
      "[16, 10000] loss: 0.741\n",
      "[16, 12000] loss: 0.763\n",
      "[17,  2000] loss: 0.641\n",
      "[17,  4000] loss: 0.680\n",
      "[17,  6000] loss: 0.699\n",
      "[17,  8000] loss: 0.710\n",
      "[17, 10000] loss: 0.734\n",
      "[17, 12000] loss: 0.744\n",
      "[18,  2000] loss: 0.631\n",
      "[18,  4000] loss: 0.662\n",
      "[18,  6000] loss: 0.704\n",
      "[18,  8000] loss: 0.703\n",
      "[18, 10000] loss: 0.714\n",
      "[18, 12000] loss: 0.714\n",
      "[19,  2000] loss: 0.607\n",
      "[19,  4000] loss: 0.663\n",
      "[19,  6000] loss: 0.675\n",
      "[19,  8000] loss: 0.702\n",
      "[19, 10000] loss: 0.719\n",
      "[19, 12000] loss: 0.710\n",
      "[20,  2000] loss: 0.619\n",
      "[20,  4000] loss: 0.629\n",
      "[20,  6000] loss: 0.653\n",
      "[20,  8000] loss: 0.691\n",
      "[20, 10000] loss: 0.713\n",
      "[20, 12000] loss: 0.713\n",
      "[21,  2000] loss: 0.605\n",
      "[21,  4000] loss: 0.637\n",
      "[21,  6000] loss: 0.673\n",
      "[21,  8000] loss: 0.676\n",
      "[21, 10000] loss: 0.712\n",
      "[21, 12000] loss: 0.702\n",
      "[22,  2000] loss: 0.616\n",
      "[22,  4000] loss: 0.625\n",
      "[22,  6000] loss: 0.656\n",
      "[22,  8000] loss: 0.683\n",
      "[22, 10000] loss: 0.689\n",
      "[22, 12000] loss: 0.710\n",
      "[23,  2000] loss: 0.599\n",
      "[23,  4000] loss: 0.626\n",
      "[23,  6000] loss: 0.648\n",
      "[23,  8000] loss: 0.695\n",
      "[23, 10000] loss: 0.669\n",
      "[23, 12000] loss: 0.700\n",
      "[24,  2000] loss: 0.565\n",
      "[24,  4000] loss: 0.605\n",
      "[24,  6000] loss: 0.656\n",
      "[24,  8000] loss: 0.684\n",
      "[24, 10000] loss: 0.665\n",
      "[24, 12000] loss: 0.676\n",
      "[25,  2000] loss: 0.582\n",
      "[25,  4000] loss: 0.582\n",
      "[25,  6000] loss: 0.654\n",
      "[25,  8000] loss: 0.656\n",
      "[25, 10000] loss: 0.654\n",
      "[25, 12000] loss: 0.694\n",
      "[26,  2000] loss: 0.561\n",
      "[26,  4000] loss: 0.605\n",
      "[26,  6000] loss: 0.650\n",
      "[26,  8000] loss: 0.664\n",
      "[26, 10000] loss: 0.642\n",
      "[26, 12000] loss: 0.681\n",
      "[27,  2000] loss: 0.572\n",
      "[27,  4000] loss: 0.616\n",
      "[27,  6000] loss: 0.626\n",
      "[27,  8000] loss: 0.626\n",
      "[27, 10000] loss: 0.672\n",
      "[27, 12000] loss: 0.655\n",
      "[28,  2000] loss: 0.552\n",
      "[28,  4000] loss: 0.614\n",
      "[28,  6000] loss: 0.614\n",
      "[28,  8000] loss: 0.648\n",
      "[28, 10000] loss: 0.647\n",
      "[28, 12000] loss: 0.662\n",
      "[29,  2000] loss: 0.563\n",
      "[29,  4000] loss: 0.603\n",
      "[29,  6000] loss: 0.608\n",
      "[29,  8000] loss: 0.654\n",
      "[29, 10000] loss: 0.649\n",
      "[29, 12000] loss: 0.660\n",
      "[30,  2000] loss: 0.559\n",
      "[30,  4000] loss: 0.614\n",
      "[30,  6000] loss: 0.612\n",
      "[30,  8000] loss: 0.624\n",
      "[30, 10000] loss: 0.628\n",
      "[30, 12000] loss: 0.672\n",
      "[31,  2000] loss: 0.584\n",
      "[31,  4000] loss: 0.616\n",
      "[31,  6000] loss: 0.619\n",
      "[31,  8000] loss: 0.640\n",
      "[31, 10000] loss: 0.663\n",
      "[31, 12000] loss: 0.618\n",
      "[32,  2000] loss: 0.544\n",
      "[32,  4000] loss: 0.598\n",
      "[32,  6000] loss: 0.611\n",
      "[32,  8000] loss: 0.632\n",
      "[32, 10000] loss: 0.657\n",
      "[32, 12000] loss: 0.653\n",
      "[33,  2000] loss: 0.557\n",
      "[33,  4000] loss: 0.585\n",
      "[33,  6000] loss: 0.594\n",
      "[33,  8000] loss: 0.655\n",
      "[33, 10000] loss: 0.655\n",
      "[33, 12000] loss: 0.621\n",
      "[34,  2000] loss: 0.560\n",
      "[34,  4000] loss: 0.556\n",
      "[34,  6000] loss: 0.634\n",
      "[34,  8000] loss: 0.633\n",
      "[34, 10000] loss: 0.619\n",
      "[34, 12000] loss: 0.656\n",
      "[35,  2000] loss: 0.538\n",
      "[35,  4000] loss: 0.593\n",
      "[35,  6000] loss: 0.608\n",
      "[35,  8000] loss: 0.649\n",
      "[35, 10000] loss: 0.654\n",
      "[35, 12000] loss: 0.647\n",
      "[36,  2000] loss: 0.543\n",
      "[36,  4000] loss: 0.572\n",
      "[36,  6000] loss: 0.639\n",
      "[36,  8000] loss: 0.624\n",
      "[36, 10000] loss: 0.623\n",
      "[36, 12000] loss: 0.657\n",
      "[37,  2000] loss: 0.541\n",
      "[37,  4000] loss: 0.562\n",
      "[37,  6000] loss: 0.603\n",
      "[37,  8000] loss: 0.613\n",
      "[37, 10000] loss: 0.632\n",
      "[37, 12000] loss: 0.657\n",
      "[38,  2000] loss: 0.568\n",
      "[38,  4000] loss: 0.603\n",
      "[38,  6000] loss: 0.648\n",
      "[38,  8000] loss: 0.633\n",
      "[38, 10000] loss: 0.634\n",
      "[38, 12000] loss: 0.658\n",
      "[39,  2000] loss: 0.552\n",
      "[39,  4000] loss: 0.552\n",
      "[39,  6000] loss: 0.625\n",
      "[39,  8000] loss: 0.636\n",
      "[39, 10000] loss: 0.662\n",
      "[39, 12000] loss: 0.661\n",
      "[40,  2000] loss: 0.517\n",
      "[40,  4000] loss: 0.559\n",
      "[40,  6000] loss: 0.612\n",
      "[40,  8000] loss: 0.600\n",
      "[40, 10000] loss: 0.642\n",
      "[40, 12000] loss: 0.658\n",
      "[41,  2000] loss: 0.534\n",
      "[41,  4000] loss: 0.557\n",
      "[41,  6000] loss: 0.615\n",
      "[41,  8000] loss: 0.627\n",
      "[41, 10000] loss: 0.620\n",
      "[41, 12000] loss: 0.673\n",
      "[42,  2000] loss: 0.527\n",
      "[42,  4000] loss: 0.543\n",
      "[42,  6000] loss: 0.593\n",
      "[42,  8000] loss: 0.600\n",
      "[42, 10000] loss: 0.602\n",
      "[42, 12000] loss: 0.641\n",
      "[43,  2000] loss: 0.535\n",
      "[43,  4000] loss: 0.563\n",
      "[43,  6000] loss: 0.603\n",
      "[43,  8000] loss: 0.619\n",
      "[43, 10000] loss: 0.659\n",
      "[43, 12000] loss: 0.654\n",
      "[44,  2000] loss: 0.539\n",
      "[44,  4000] loss: 0.566\n",
      "[44,  6000] loss: 0.611\n",
      "[44,  8000] loss: 0.636\n",
      "[44, 10000] loss: 0.689\n",
      "[44, 12000] loss: 0.667\n",
      "[45,  2000] loss: 0.561\n",
      "[45,  4000] loss: 0.566\n",
      "[45,  6000] loss: 0.591\n",
      "[45,  8000] loss: 0.613\n",
      "[45, 10000] loss: 0.636\n",
      "[45, 12000] loss: 0.653\n",
      "[46,  2000] loss: 0.579\n",
      "[46,  4000] loss: 0.584\n",
      "[46,  6000] loss: 0.605\n",
      "[46,  8000] loss: 0.629\n",
      "[46, 10000] loss: 0.661\n",
      "[46, 12000] loss: 0.646\n",
      "[47,  2000] loss: 0.525\n",
      "[47,  4000] loss: 0.588\n",
      "[47,  6000] loss: 0.598\n",
      "[47,  8000] loss: 0.641\n",
      "[47, 10000] loss: 0.622\n",
      "[47, 12000] loss: 0.638\n",
      "[48,  2000] loss: 0.581\n",
      "[48,  4000] loss: 0.604\n",
      "[48,  6000] loss: 0.587\n",
      "[48,  8000] loss: 0.631\n",
      "[48, 10000] loss: 0.651\n",
      "[48, 12000] loss: 0.633\n",
      "[49,  2000] loss: 0.516\n",
      "[49,  4000] loss: 0.546\n",
      "[49,  6000] loss: 0.615\n",
      "[49,  8000] loss: 0.631\n",
      "[49, 10000] loss: 0.653\n",
      "[49, 12000] loss: 0.638\n",
      "[50,  2000] loss: 0.542\n",
      "[50,  4000] loss: 0.594\n",
      "[50,  6000] loss: 0.605\n",
      "[50,  8000] loss: 0.609\n",
      "[50, 10000] loss: 0.638\n",
      "[50, 12000] loss: 0.673\n",
      "Finished Training\n"
     ]
    }
   ],
   "source": [
    "for epoch in range(50):  # loop over the dataset multiple times\n",
    "\n",
    "    # Statistics\n",
    "    correct = 0\n",
    "    total = 0\n",
    "    running_loss = 0.0\n",
    "    for i, data in enumerate(trainloader, 0):\n",
    "        # get the inputs; data is a list of [inputs, labels]\n",
    "        inputs, labels = data\n",
    "\n",
    "        # zero the parameter gradients\n",
    "        optimizer.zero_grad()\n",
    "\n",
    "        # forward + backward + optimize\n",
    "        outputs = net(inputs)\n",
    "        loss = criterion(outputs, labels)\n",
    "        loss.backward()\n",
    "        optimizer.step()\n",
    "\n",
    "        # print statistics and calculate accuracy\n",
    "        running_loss += loss.item()\n",
    "        if i % 2000 == 1999:    # print every 2000 mini-batches\n",
    "            print(f'[{epoch + 1}, {i + 1:5d}] loss: {running_loss / 2000:.3f}')\n",
    "            running_loss = 0.0\n",
    "        _, predicted = torch.max(outputs.data, 1)\n",
    "        total += labels.size(0)\n",
    "        correct += (predicted == labels).sum().item()\n",
    "\n",
    "    # Record the training accuracy and loss\n",
    "    epoch_loss = running_loss / len(trainloader)\n",
    "    epoch_accuracy = correct / total\n",
    "    loss_metric.append(epoch_loss)\n",
    "    training_accuracy.append(epoch_accuracy)\n",
    "\n",
    "    # Record the testing accuracy\n",
    "    correct = 0\n",
    "    total = 0\n",
    "    with torch.no_grad():\n",
    "        for data in testloader:\n",
    "            images, labels = data\n",
    "            outputs = net(images)\n",
    "            _, predicted = torch.max(outputs.data, 1)\n",
    "            total += labels.size(0)\n",
    "            correct += (predicted == labels).sum().item()\n",
    "    acc = correct / total\n",
    "    test_accuracy.append(acc)\n",
    "\n",
    "print('Finished Training')"
   ]
  },
  {
   "cell_type": "code",
   "execution_count": 9,
   "metadata": {
    "collapsed": false,
    "jupyter": {
     "outputs_hidden": false
    }
   },
   "outputs": [],
   "source": [
    "PATH = './cifar_net.pth'\n",
    "torch.save(net.state_dict(), PATH)"
   ]
  },
  {
   "cell_type": "code",
   "execution_count": 10,
   "metadata": {
    "collapsed": false,
    "jupyter": {
     "outputs_hidden": false
    }
   },
   "outputs": [
    {
     "data": {
      "image/png": "[encoded data removed]",
      "text/plain": [
       "<Figure size 640x480 with 1 Axes>"
      ]
     },
     "metadata": {},
     "output_type": "display_data"
    },
    {
     "name": "stdout",
     "output_type": "stream",
     "text": [
      "GroundTruth:  cat   ship  ship  plane\n"
     ]
    }
   ],
   "source": [
    "dataiter = iter(testloader)\n",
    "images, labels = next(dataiter)\n",
    "\n",
    "# print images\n",
    "imshow(torchvision.utils.make_grid(images))\n",
    "print('GroundTruth: ', ' '.join(f'{classes[labels[j]]:5s}' for j in range(4)))"
   ]
  },
  {
   "cell_type": "code",
   "execution_count": 11,
   "metadata": {
    "collapsed": false,
    "jupyter": {
     "outputs_hidden": false
    }
   },
   "outputs": [
    {
     "data": {
      "text/plain": [
       "<All keys matched successfully>"
      ]
     },
     "execution_count": 11,
     "metadata": {},
     "output_type": "execute_result"
    }
   ],
   "source": [
    "net = Net()\n",
    "net.load_state_dict(torch.load(PATH, weights_only=True))"
   ]
  },
  {
   "cell_type": "code",
   "execution_count": 12,
   "metadata": {
    "collapsed": false,
    "jupyter": {
     "outputs_hidden": false
    }
   },
   "outputs": [],
   "source": [
    "outputs = net(images)"
   ]
  },
  {
   "cell_type": "code",
   "execution_count": 13,
   "metadata": {
    "collapsed": false,
    "jupyter": {
     "outputs_hidden": false
    }
   },
   "outputs": [
    {
     "name": "stdout",
     "output_type": "stream",
     "text": [
      "Predicted:  dog   car   car   plane\n"
     ]
    }
   ],
   "source": [
    "_, predicted = torch.max(outputs, 1)\n",
    "\n",
    "print('Predicted: ', ' '.join(f'{classes[predicted[j]]:5s}'\n",
    "                              for j in range(4)))"
   ]
  },
  {
   "cell_type": "code",
   "execution_count": 14,
   "metadata": {
    "collapsed": false,
    "jupyter": {
     "outputs_hidden": false
    }
   },
   "outputs": [
    {
     "name": "stdout",
     "output_type": "stream",
     "text": [
      "Accuracy of the network on the 10000 test images: 57 %\n"
     ]
    }
   ],
   "source": [
    "correct = 0\n",
    "total = 0\n",
    "# since we're not training, we don't need to calculate the gradients for our outputs\n",
    "with torch.no_grad():\n",
    "    for data in testloader:\n",
    "        images, labels = data\n",
    "        # calculate outputs by running images through the network\n",
    "        outputs = net(images)\n",
    "        # the class with the highest energy is what we choose as prediction\n",
    "        _, predicted = torch.max(outputs.data, 1)\n",
    "        total += labels.size(0)\n",
    "        correct += (predicted == labels).sum().item()\n",
    "\n",
    "print(f'Accuracy of the network on the 10000 test images: {100 * correct // total} %')"
   ]
  },
  {
   "cell_type": "code",
   "execution_count": 15,
   "metadata": {
    "collapsed": false,
    "jupyter": {
     "outputs_hidden": false
    }
   },
   "outputs": [
    {
     "name": "stdout",
     "output_type": "stream",
     "text": [
      "Accuracy for class: plane is 56.5 %\n",
      "Accuracy for class: car   is 76.5 %\n",
      "Accuracy for class: bird  is 42.1 %\n",
      "Accuracy for class: cat   is 42.8 %\n",
      "Accuracy for class: deer  is 44.0 %\n",
      "Accuracy for class: dog   is 48.3 %\n",
      "Accuracy for class: frog  is 66.1 %\n",
      "Accuracy for class: horse is 66.7 %\n",
      "Accuracy for class: ship  is 72.5 %\n",
      "Accuracy for class: truck is 57.1 %\n"
     ]
    }
   ],
   "source": [
    "# prepare to count predictions for each class\n",
    "correct_pred = {classname: 0 for classname in classes}\n",
    "total_pred = {classname: 0 for classname in classes}\n",
    "\n",
    "# again no gradients needed\n",
    "with torch.no_grad():\n",
    "    for data in testloader:\n",
    "        images, labels = data\n",
    "        outputs = net(images)\n",
    "        _, predictions = torch.max(outputs, 1)\n",
    "        # collect the correct predictions for each class\n",
    "        for label, prediction in zip(labels, predictions):\n",
    "            if label == prediction:\n",
    "                correct_pred[classes[label]] += 1\n",
    "            total_pred[classes[label]] += 1\n",
    "\n",
    "\n",
    "# print accuracy for each class\n",
    "for classname, correct_count in correct_pred.items():\n",
    "    accuracy = 100 * float(correct_count) / total_pred[classname]\n",
    "    print(f'Accuracy for class: {classname:5s} is {accuracy:.1f} %')"
   ]
  },
  {
   "cell_type": "code",
   "execution_count": 16,
   "metadata": {
    "collapsed": false,
    "jupyter": {
     "outputs_hidden": false
    }
   },
   "outputs": [
    {
     "name": "stdout",
     "output_type": "stream",
     "text": [
      "cpu\n"
     ]
    }
   ],
   "source": [
    "device = torch.device('cuda:0' if torch.cuda.is_available() else 'cpu')\n",
    "\n",
    "# Assuming that we are on a CUDA machine, this should print a CUDA device:\n",
    "\n",
    "print(device)"
   ]
  },
  {
   "cell_type": "code",
   "execution_count": 17,
   "metadata": {},
   "outputs": [
    {
     "data": {
      "image/png": "[encoded data removed]",
      "text/plain": [
       "<Figure size 640x480 with 1 Axes>"
      ]
     },
     "metadata": {},
     "output_type": "display_data"
    },
    {
     "data": {
      "image/png": "[encoded data removed]",
      "text/plain": [
       "<Figure size 640x480 with 1 Axes>"
      ]
     },
     "metadata": {},
     "output_type": "display_data"
    },
    {
     "data": {
      "image/png": "[encoded data removed]",
      "text/plain": [
       "<Figure size 640x480 with 1 Axes>"
      ]
     },
     "metadata": {},
     "output_type": "display_data"
    }
   ],
   "source": [
    "# Plotting the results\n",
    "epochs = range(1, 51)\n",
    "\n",
    "plt.plot(epochs, loss_metric)\n",
    "plt.title('Loss')\n",
    "plt.show()\n",
    "\n",
    "plt.plot(epochs, training_accuracy)\n",
    "plt.title('Training Accuracy')\n",
    "plt.show()\n",
    "\n",
    "plt.plot(epochs, test_accuracy)\n",
    "plt.title('Test Accuracy')\n",
    "plt.show()"
   ]
  },
  {
   "cell_type": "markdown",
   "metadata": {},
   "source": [
    "This is very similar to part 1, and also serves as part 5's batch size of 4 and part 6's learning rate of 0.01."
   ]
  },
  {
   "cell_type": "code",
   "execution_count": 18,
   "metadata": {
    "collapsed": false,
    "jupyter": {
     "outputs_hidden": false
    }
   },
   "outputs": [],
   "source": [
    "del dataiter"
   ]
  }
 ],
 "metadata": {
  "kernelspec": {
   "display_name": "Python 3 (ipykernel)",
   "language": "python",
   "name": "python3"
  },
  "language_info": {
   "codemirror_mode": {
    "name": "ipython",
    "version": 3
   },
   "file_extension": ".py",
   "mimetype": "text/x-python",
   "name": "python",
   "nbconvert_exporter": "python",
   "pygments_lexer": "ipython3",
   "version": "3.12.2"
  }
 },
 "nbformat": 4,
 "nbformat_minor": 4
}
