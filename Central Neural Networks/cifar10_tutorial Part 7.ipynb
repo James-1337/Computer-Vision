{
 "cells": [
  {
   "cell_type": "code",
   "execution_count": 1,
   "metadata": {
    "collapsed": false,
    "jupyter": {
     "outputs_hidden": false
    }
   },
   "outputs": [],
   "source": [
    "%matplotlib inline"
   ]
  },
  {
   "cell_type": "code",
   "execution_count": 2,
   "metadata": {
    "collapsed": false,
    "jupyter": {
     "outputs_hidden": false
    }
   },
   "outputs": [],
   "source": [
    "import torch\n",
    "import torchvision\n",
    "import torchvision.transforms as transforms\n",
    "import matplotlib.pyplot as plt"
   ]
  },
  {
   "cell_type": "code",
   "execution_count": 3,
   "metadata": {
    "collapsed": false,
    "jupyter": {
     "outputs_hidden": false
    }
   },
   "outputs": [
    {
     "name": "stdout",
     "output_type": "stream",
     "text": [
      "Files already downloaded and verified\n",
      "Files already downloaded and verified\n"
     ]
    }
   ],
   "source": [
    "# Add in data augmentation to avoid overfitting\n",
    "transform = transforms.Compose(\n",
    "    [transforms.RandomResizedCrop(32),\n",
    "     transforms.RandomHorizontalFlip(),\n",
    "     transforms.ToTensor(),\n",
    "     transforms.Normalize((0.5, 0.5, 0.5), (0.5, 0.5, 0.5))])\n",
    "\n",
    "batch_size = 4\n",
    "\n",
    "trainset = torchvision.datasets.CIFAR10(root='./data', train=True,\n",
    "                                        download=True, transform=transform)\n",
    "trainloader = torch.utils.data.DataLoader(trainset, batch_size=batch_size,\n",
    "                                          shuffle=True, num_workers=2)\n",
    "\n",
    "testset = torchvision.datasets.CIFAR10(root='./data', train=False,\n",
    "                                       download=True, transform=transform)\n",
    "testloader = torch.utils.data.DataLoader(testset, batch_size=batch_size,\n",
    "                                         shuffle=False, num_workers=2)\n",
    "\n",
    "classes = ('plane', 'car', 'bird', 'cat',\n",
    "           'deer', 'dog', 'frog', 'horse', 'ship', 'truck')"
   ]
  },
  {
   "cell_type": "code",
   "execution_count": 4,
   "metadata": {
    "collapsed": false,
    "jupyter": {
     "outputs_hidden": false
    }
   },
   "outputs": [
    {
     "data": {
      "image/png": "[encoded data removed]",
      "text/plain": [
       "<Figure size 640x480 with 1 Axes>"
      ]
     },
     "metadata": {},
     "output_type": "display_data"
    },
    {
     "name": "stdout",
     "output_type": "stream",
     "text": [
      "horse dog   car   bird \n"
     ]
    }
   ],
   "source": [
    "import matplotlib.pyplot as plt\n",
    "import numpy as np\n",
    "\n",
    "# functions to show an image\n",
    "\n",
    "\n",
    "def imshow(img):\n",
    "    img = img / 2 + 0.5     # unnormalize\n",
    "    npimg = img.numpy()\n",
    "    plt.imshow(np.transpose(npimg, (1, 2, 0)))\n",
    "    plt.show()\n",
    "\n",
    "\n",
    "# get some random training images\n",
    "dataiter = iter(trainloader)\n",
    "images, labels = next(dataiter)\n",
    "\n",
    "# show images\n",
    "imshow(torchvision.utils.make_grid(images))\n",
    "# print labels\n",
    "print(' '.join(f'{classes[labels[j]]:5s}' for j in range(batch_size)))"
   ]
  },
  {
   "cell_type": "code",
   "execution_count": 5,
   "metadata": {
    "collapsed": false,
    "jupyter": {
     "outputs_hidden": false
    }
   },
   "outputs": [],
   "source": [
    "import torch.nn as nn\n",
    "import torch.nn.functional as F\n",
    "\n",
    "# Use multiple layers alongside convolution layers beforehand to transition from input to 110 neurons to 74 neurons to 10 neurons\n",
    "class Net(nn.Module):\n",
    "    def __init__(self):\n",
    "        super().__init__()\n",
    "        self.conv1 = nn.Conv2d(3, 6, 5)\n",
    "        self.pool = nn.MaxPool2d(2, 2)\n",
    "        self.conv2 = nn.Conv2d(6, 16, 5)\n",
    "        self.fc1 = nn.Linear(16 * 5 * 5, 110)\n",
    "        self.fc2 = nn.Linear(110, 74)\n",
    "        self.fc3 = nn.Linear(74, 10)\n",
    "\n",
    "    def forward(self, x):\n",
    "        x = self.pool(F.relu(self.conv1(x)))\n",
    "        x = self.pool(F.relu(self.conv2(x)))\n",
    "        x = torch.flatten(x, 1) # flatten all dimensions except batch\n",
    "        x = F.relu(self.fc1(x))\n",
    "        x = F.relu(self.fc2(x))\n",
    "        x = self.fc3(x)\n",
    "        return x\n",
    "\n",
    "\n",
    "net = Net()"
   ]
  },
  {
   "cell_type": "code",
   "execution_count": 6,
   "metadata": {
    "collapsed": false,
    "jupyter": {
     "outputs_hidden": false
    }
   },
   "outputs": [],
   "source": [
    "import torch.optim as optim\n",
    "\n",
    "criterion = nn.CrossEntropyLoss()\n",
    "optimizer = optim.SGD(net.parameters(), lr=0.001, momentum=0.9)"
   ]
  },
  {
   "cell_type": "code",
   "execution_count": 7,
   "metadata": {},
   "outputs": [],
   "source": [
    "# Lists to store metrics for plotting\n",
    "loss_metric = []\n",
    "training_accuracy = []\n",
    "test_accuracy = []"
   ]
  },
  {
   "cell_type": "code",
   "execution_count": 8,
   "metadata": {
    "collapsed": false,
    "jupyter": {
     "outputs_hidden": false
    }
   },
   "outputs": [
    {
     "name": "stdout",
     "output_type": "stream",
     "text": [
      "[1,  2000] loss: 2.271\n",
      "[1,  4000] loss: 2.079\n",
      "[1,  6000] loss: 1.951\n",
      "[1,  8000] loss: 1.892\n",
      "[1, 10000] loss: 1.854\n",
      "[1, 12000] loss: 1.812\n",
      "[2,  2000] loss: 1.793\n",
      "[2,  4000] loss: 1.773\n",
      "[2,  6000] loss: 1.768\n",
      "[2,  8000] loss: 1.740\n",
      "[2, 10000] loss: 1.739\n",
      "[2, 12000] loss: 1.729\n",
      "[3,  2000] loss: 1.718\n",
      "[3,  4000] loss: 1.688\n",
      "[3,  6000] loss: 1.702\n",
      "[3,  8000] loss: 1.702\n",
      "[3, 10000] loss: 1.700\n",
      "[3, 12000] loss: 1.672\n",
      "[4,  2000] loss: 1.658\n",
      "[4,  4000] loss: 1.669\n",
      "[4,  6000] loss: 1.673\n",
      "[4,  8000] loss: 1.656\n",
      "[4, 10000] loss: 1.637\n",
      "[4, 12000] loss: 1.602\n",
      "[5,  2000] loss: 1.620\n",
      "[5,  4000] loss: 1.612\n",
      "[5,  6000] loss: 1.627\n",
      "[5,  8000] loss: 1.630\n",
      "[5, 10000] loss: 1.624\n",
      "[5, 12000] loss: 1.612\n",
      "[6,  2000] loss: 1.581\n",
      "[6,  4000] loss: 1.582\n",
      "[6,  6000] loss: 1.621\n",
      "[6,  8000] loss: 1.607\n",
      "[6, 10000] loss: 1.579\n",
      "[6, 12000] loss: 1.583\n",
      "[7,  2000] loss: 1.571\n",
      "[7,  4000] loss: 1.586\n",
      "[7,  6000] loss: 1.579\n",
      "[7,  8000] loss: 1.568\n",
      "[7, 10000] loss: 1.583\n",
      "[7, 12000] loss: 1.577\n",
      "[8,  2000] loss: 1.568\n",
      "[8,  4000] loss: 1.550\n",
      "[8,  6000] loss: 1.561\n",
      "[8,  8000] loss: 1.561\n",
      "[8, 10000] loss: 1.555\n",
      "[8, 12000] loss: 1.543\n",
      "[9,  2000] loss: 1.556\n",
      "[9,  4000] loss: 1.551\n",
      "[9,  6000] loss: 1.540\n",
      "[9,  8000] loss: 1.544\n",
      "[9, 10000] loss: 1.536\n",
      "[9, 12000] loss: 1.551\n",
      "[10,  2000] loss: 1.547\n",
      "[10,  4000] loss: 1.540\n",
      "[10,  6000] loss: 1.536\n",
      "[10,  8000] loss: 1.533\n",
      "[10, 10000] loss: 1.522\n",
      "[10, 12000] loss: 1.549\n",
      "[11,  2000] loss: 1.515\n",
      "[11,  4000] loss: 1.530\n",
      "[11,  6000] loss: 1.536\n",
      "[11,  8000] loss: 1.542\n",
      "[11, 10000] loss: 1.523\n",
      "[11, 12000] loss: 1.508\n",
      "[12,  2000] loss: 1.537\n",
      "[12,  4000] loss: 1.523\n",
      "[12,  6000] loss: 1.514\n",
      "[12,  8000] loss: 1.521\n",
      "[12, 10000] loss: 1.514\n",
      "[12, 12000] loss: 1.521\n",
      "[13,  2000] loss: 1.511\n",
      "[13,  4000] loss: 1.513\n",
      "[13,  6000] loss: 1.510\n",
      "[13,  8000] loss: 1.536\n",
      "[13, 10000] loss: 1.512\n",
      "[13, 12000] loss: 1.517\n",
      "[14,  2000] loss: 1.489\n",
      "[14,  4000] loss: 1.504\n",
      "[14,  6000] loss: 1.512\n",
      "[14,  8000] loss: 1.500\n",
      "[14, 10000] loss: 1.515\n",
      "[14, 12000] loss: 1.503\n",
      "[15,  2000] loss: 1.523\n",
      "[15,  4000] loss: 1.517\n",
      "[15,  6000] loss: 1.496\n",
      "[15,  8000] loss: 1.504\n",
      "[15, 10000] loss: 1.503\n",
      "[15, 12000] loss: 1.507\n",
      "[16,  2000] loss: 1.493\n",
      "[16,  4000] loss: 1.518\n",
      "[16,  6000] loss: 1.489\n",
      "[16,  8000] loss: 1.493\n",
      "[16, 10000] loss: 1.505\n",
      "[16, 12000] loss: 1.503\n",
      "[17,  2000] loss: 1.497\n",
      "[17,  4000] loss: 1.494\n",
      "[17,  6000] loss: 1.501\n",
      "[17,  8000] loss: 1.500\n",
      "[17, 10000] loss: 1.495\n",
      "[17, 12000] loss: 1.494\n",
      "[18,  2000] loss: 1.484\n",
      "[18,  4000] loss: 1.503\n",
      "[18,  6000] loss: 1.483\n",
      "[18,  8000] loss: 1.493\n",
      "[18, 10000] loss: 1.484\n",
      "[18, 12000] loss: 1.481\n",
      "[19,  2000] loss: 1.481\n",
      "[19,  4000] loss: 1.482\n",
      "[19,  6000] loss: 1.487\n",
      "[19,  8000] loss: 1.488\n",
      "[19, 10000] loss: 1.490\n",
      "[19, 12000] loss: 1.480\n",
      "[20,  2000] loss: 1.492\n",
      "[20,  4000] loss: 1.482\n",
      "[20,  6000] loss: 1.495\n",
      "[20,  8000] loss: 1.492\n",
      "[20, 10000] loss: 1.500\n",
      "[20, 12000] loss: 1.502\n",
      "[21,  2000] loss: 1.474\n",
      "[21,  4000] loss: 1.495\n",
      "[21,  6000] loss: 1.500\n",
      "[21,  8000] loss: 1.467\n",
      "[21, 10000] loss: 1.467\n",
      "[21, 12000] loss: 1.470\n",
      "[22,  2000] loss: 1.471\n",
      "[22,  4000] loss: 1.483\n",
      "[22,  6000] loss: 1.473\n",
      "[22,  8000] loss: 1.490\n",
      "[22, 10000] loss: 1.480\n",
      "[22, 12000] loss: 1.484\n",
      "[23,  2000] loss: 1.472\n",
      "[23,  4000] loss: 1.476\n",
      "[23,  6000] loss: 1.467\n",
      "[23,  8000] loss: 1.480\n",
      "[23, 10000] loss: 1.487\n",
      "[23, 12000] loss: 1.472\n",
      "[24,  2000] loss: 1.472\n",
      "[24,  4000] loss: 1.488\n",
      "[24,  6000] loss: 1.462\n",
      "[24,  8000] loss: 1.454\n",
      "[24, 10000] loss: 1.479\n",
      "[24, 12000] loss: 1.487\n",
      "[25,  2000] loss: 1.480\n",
      "[25,  4000] loss: 1.493\n",
      "[25,  6000] loss: 1.479\n",
      "[25,  8000] loss: 1.457\n",
      "[25, 10000] loss: 1.483\n",
      "[25, 12000] loss: 1.442\n",
      "[26,  2000] loss: 1.454\n",
      "[26,  4000] loss: 1.473\n",
      "[26,  6000] loss: 1.459\n",
      "[26,  8000] loss: 1.485\n",
      "[26, 10000] loss: 1.467\n",
      "[26, 12000] loss: 1.451\n",
      "[27,  2000] loss: 1.474\n",
      "[27,  4000] loss: 1.471\n",
      "[27,  6000] loss: 1.460\n",
      "[27,  8000] loss: 1.468\n",
      "[27, 10000] loss: 1.452\n",
      "[27, 12000] loss: 1.486\n",
      "[28,  2000] loss: 1.465\n",
      "[28,  4000] loss: 1.455\n",
      "[28,  6000] loss: 1.475\n",
      "[28,  8000] loss: 1.466\n",
      "[28, 10000] loss: 1.461\n",
      "[28, 12000] loss: 1.449\n",
      "[29,  2000] loss: 1.467\n",
      "[29,  4000] loss: 1.467\n",
      "[29,  6000] loss: 1.482\n",
      "[29,  8000] loss: 1.462\n",
      "[29, 10000] loss: 1.444\n",
      "[29, 12000] loss: 1.460\n",
      "[30,  2000] loss: 1.463\n",
      "[30,  4000] loss: 1.450\n",
      "[30,  6000] loss: 1.459\n",
      "[30,  8000] loss: 1.460\n",
      "[30, 10000] loss: 1.472\n",
      "[30, 12000] loss: 1.442\n",
      "[31,  2000] loss: 1.442\n",
      "[31,  4000] loss: 1.461\n",
      "[31,  6000] loss: 1.461\n",
      "[31,  8000] loss: 1.475\n",
      "[31, 10000] loss: 1.462\n",
      "[31, 12000] loss: 1.460\n",
      "[32,  2000] loss: 1.447\n",
      "[32,  4000] loss: 1.454\n",
      "[32,  6000] loss: 1.459\n",
      "[32,  8000] loss: 1.461\n",
      "[32, 10000] loss: 1.443\n",
      "[32, 12000] loss: 1.479\n",
      "[33,  2000] loss: 1.450\n",
      "[33,  4000] loss: 1.451\n",
      "[33,  6000] loss: 1.471\n",
      "[33,  8000] loss: 1.469\n",
      "[33, 10000] loss: 1.450\n",
      "[33, 12000] loss: 1.436\n",
      "[34,  2000] loss: 1.467\n",
      "[34,  4000] loss: 1.445\n",
      "[34,  6000] loss: 1.436\n",
      "[34,  8000] loss: 1.459\n",
      "[34, 10000] loss: 1.449\n",
      "[34, 12000] loss: 1.448\n",
      "[35,  2000] loss: 1.444\n",
      "[35,  4000] loss: 1.460\n",
      "[35,  6000] loss: 1.462\n",
      "[35,  8000] loss: 1.448\n",
      "[35, 10000] loss: 1.450\n",
      "[35, 12000] loss: 1.465\n",
      "[36,  2000] loss: 1.467\n",
      "[36,  4000] loss: 1.454\n",
      "[36,  6000] loss: 1.444\n",
      "[36,  8000] loss: 1.456\n",
      "[36, 10000] loss: 1.454\n",
      "[36, 12000] loss: 1.473\n",
      "[37,  2000] loss: 1.458\n",
      "[37,  4000] loss: 1.442\n",
      "[37,  6000] loss: 1.437\n",
      "[37,  8000] loss: 1.452\n",
      "[37, 10000] loss: 1.449\n",
      "[37, 12000] loss: 1.477\n",
      "[38,  2000] loss: 1.458\n",
      "[38,  4000] loss: 1.441\n",
      "[38,  6000] loss: 1.455\n",
      "[38,  8000] loss: 1.443\n",
      "[38, 10000] loss: 1.447\n",
      "[38, 12000] loss: 1.440\n",
      "[39,  2000] loss: 1.462\n",
      "[39,  4000] loss: 1.447\n",
      "[39,  6000] loss: 1.445\n",
      "[39,  8000] loss: 1.448\n",
      "[39, 10000] loss: 1.454\n",
      "[39, 12000] loss: 1.466\n",
      "[40,  2000] loss: 1.462\n",
      "[40,  4000] loss: 1.447\n",
      "[40,  6000] loss: 1.449\n",
      "[40,  8000] loss: 1.439\n",
      "[40, 10000] loss: 1.440\n",
      "[40, 12000] loss: 1.448\n",
      "[41,  2000] loss: 1.426\n",
      "[41,  4000] loss: 1.469\n",
      "[41,  6000] loss: 1.457\n",
      "[41,  8000] loss: 1.459\n",
      "[41, 10000] loss: 1.437\n",
      "[41, 12000] loss: 1.418\n",
      "[42,  2000] loss: 1.456\n",
      "[42,  4000] loss: 1.425\n",
      "[42,  6000] loss: 1.431\n",
      "[42,  8000] loss: 1.453\n",
      "[42, 10000] loss: 1.450\n",
      "[42, 12000] loss: 1.433\n",
      "[43,  2000] loss: 1.452\n",
      "[43,  4000] loss: 1.446\n",
      "[43,  6000] loss: 1.422\n",
      "[43,  8000] loss: 1.449\n",
      "[43, 10000] loss: 1.429\n",
      "[43, 12000] loss: 1.440\n",
      "[44,  2000] loss: 1.447\n",
      "[44,  4000] loss: 1.438\n",
      "[44,  6000] loss: 1.423\n",
      "[44,  8000] loss: 1.436\n",
      "[44, 10000] loss: 1.442\n",
      "[44, 12000] loss: 1.444\n",
      "[45,  2000] loss: 1.426\n",
      "[45,  4000] loss: 1.444\n",
      "[45,  6000] loss: 1.444\n",
      "[45,  8000] loss: 1.443\n",
      "[45, 10000] loss: 1.420\n",
      "[45, 12000] loss: 1.408\n",
      "[46,  2000] loss: 1.436\n",
      "[46,  4000] loss: 1.462\n",
      "[46,  6000] loss: 1.428\n",
      "[46,  8000] loss: 1.459\n",
      "[46, 10000] loss: 1.452\n",
      "[46, 12000] loss: 1.444\n",
      "[47,  2000] loss: 1.428\n",
      "[47,  4000] loss: 1.424\n",
      "[47,  6000] loss: 1.428\n",
      "[47,  8000] loss: 1.437\n",
      "[47, 10000] loss: 1.444\n",
      "[47, 12000] loss: 1.437\n",
      "[48,  2000] loss: 1.416\n",
      "[48,  4000] loss: 1.449\n",
      "[48,  6000] loss: 1.431\n",
      "[48,  8000] loss: 1.446\n",
      "[48, 10000] loss: 1.433\n",
      "[48, 12000] loss: 1.443\n",
      "[49,  2000] loss: 1.438\n",
      "[49,  4000] loss: 1.459\n",
      "[49,  6000] loss: 1.438\n",
      "[49,  8000] loss: 1.429\n",
      "[49, 10000] loss: 1.442\n",
      "[49, 12000] loss: 1.428\n",
      "[50,  2000] loss: 1.431\n",
      "[50,  4000] loss: 1.424\n",
      "[50,  6000] loss: 1.445\n",
      "[50,  8000] loss: 1.426\n",
      "[50, 10000] loss: 1.435\n",
      "[50, 12000] loss: 1.439\n",
      "Finished Training\n"
     ]
    }
   ],
   "source": [
    "for epoch in range(50):  # loop over the dataset multiple times\n",
    "\n",
    "    # Statistics\n",
    "    correct = 0\n",
    "    total = 0\n",
    "    running_loss = 0.0\n",
    "    for i, data in enumerate(trainloader, 0):\n",
    "        # get the inputs; data is a list of [inputs, labels]\n",
    "        inputs, labels = data\n",
    "\n",
    "        # zero the parameter gradients\n",
    "        optimizer.zero_grad()\n",
    "\n",
    "        # forward + backward + optimize\n",
    "        outputs = net(inputs)\n",
    "        loss = criterion(outputs, labels)\n",
    "        loss.backward()\n",
    "        optimizer.step()\n",
    "\n",
    "        # print statistics and calculate accuracy\n",
    "        running_loss += loss.item()\n",
    "        if i % 2000 == 1999:    # print every 2000 mini-batches\n",
    "            print(f'[{epoch + 1}, {i + 1:5d}] loss: {running_loss / 2000:.3f}')\n",
    "            running_loss = 0.0\n",
    "        _, predicted = torch.max(outputs.data, 1)\n",
    "        total += labels.size(0)\n",
    "        correct += (predicted == labels).sum().item()\n",
    "\n",
    "    # Record the training accuracy and loss\n",
    "    epoch_loss = running_loss / len(trainloader)\n",
    "    epoch_accuracy = correct / total\n",
    "    loss_metric.append(epoch_loss)\n",
    "    training_accuracy.append(epoch_accuracy)\n",
    "\n",
    "    # Record the testing accuracy\n",
    "    correct = 0\n",
    "    total = 0\n",
    "    with torch.no_grad():\n",
    "        for data in testloader:\n",
    "            images, labels = data\n",
    "            outputs = net(images)\n",
    "            _, predicted = torch.max(outputs.data, 1)\n",
    "            total += labels.size(0)\n",
    "            correct += (predicted == labels).sum().item()\n",
    "    acc = correct / total\n",
    "    test_accuracy.append(acc)\n",
    "\n",
    "print('Finished Training')"
   ]
  },
  {
   "cell_type": "code",
   "execution_count": 9,
   "metadata": {
    "collapsed": false,
    "jupyter": {
     "outputs_hidden": false
    }
   },
   "outputs": [],
   "source": [
    "PATH = './cifar_net.pth'\n",
    "torch.save(net.state_dict(), PATH)"
   ]
  },
  {
   "cell_type": "code",
   "execution_count": 10,
   "metadata": {
    "collapsed": false,
    "jupyter": {
     "outputs_hidden": false
    }
   },
   "outputs": [
    {
     "data": {
      "image/png": "[encoded data removed]",
      "text/plain": [
       "<Figure size 640x480 with 1 Axes>"
      ]
     },
     "metadata": {},
     "output_type": "display_data"
    },
    {
     "name": "stdout",
     "output_type": "stream",
     "text": [
      "GroundTruth:  cat   ship  ship  plane\n"
     ]
    }
   ],
   "source": [
    "dataiter = iter(testloader)\n",
    "images, labels = next(dataiter)\n",
    "\n",
    "# print images\n",
    "imshow(torchvision.utils.make_grid(images))\n",
    "print('GroundTruth: ', ' '.join(f'{classes[labels[j]]:5s}' for j in range(4)))"
   ]
  },
  {
   "cell_type": "code",
   "execution_count": 11,
   "metadata": {
    "collapsed": false,
    "jupyter": {
     "outputs_hidden": false
    }
   },
   "outputs": [
    {
     "data": {
      "text/plain": [
       "<All keys matched successfully>"
      ]
     },
     "execution_count": 11,
     "metadata": {},
     "output_type": "execute_result"
    }
   ],
   "source": [
    "net = Net()\n",
    "net.load_state_dict(torch.load(PATH, weights_only=True))"
   ]
  },
  {
   "cell_type": "code",
   "execution_count": 12,
   "metadata": {
    "collapsed": false,
    "jupyter": {
     "outputs_hidden": false
    }
   },
   "outputs": [],
   "source": [
    "outputs = net(images)"
   ]
  },
  {
   "cell_type": "code",
   "execution_count": 13,
   "metadata": {
    "collapsed": false,
    "jupyter": {
     "outputs_hidden": false
    }
   },
   "outputs": [
    {
     "name": "stdout",
     "output_type": "stream",
     "text": [
      "Predicted:  plane car   ship  plane\n"
     ]
    }
   ],
   "source": [
    "_, predicted = torch.max(outputs, 1)\n",
    "\n",
    "print('Predicted: ', ' '.join(f'{classes[predicted[j]]:5s}'\n",
    "                              for j in range(4)))"
   ]
  },
  {
   "cell_type": "code",
   "execution_count": 14,
   "metadata": {
    "collapsed": false,
    "jupyter": {
     "outputs_hidden": false
    }
   },
   "outputs": [
    {
     "name": "stdout",
     "output_type": "stream",
     "text": [
      "Accuracy of the network on the 10000 test images: 48 %\n"
     ]
    }
   ],
   "source": [
    "correct = 0\n",
    "total = 0\n",
    "# since we're not training, we don't need to calculate the gradients for our outputs\n",
    "with torch.no_grad():\n",
    "    for data in testloader:\n",
    "        images, labels = data\n",
    "        # calculate outputs by running images through the network\n",
    "        outputs = net(images)\n",
    "        # the class with the highest energy is what we choose as prediction\n",
    "        _, predicted = torch.max(outputs.data, 1)\n",
    "        total += labels.size(0)\n",
    "        correct += (predicted == labels).sum().item()\n",
    "\n",
    "print(f'Accuracy of the network on the 10000 test images: {100 * correct // total} %')"
   ]
  },
  {
   "cell_type": "code",
   "execution_count": 15,
   "metadata": {
    "collapsed": false,
    "jupyter": {
     "outputs_hidden": false
    }
   },
   "outputs": [
    {
     "name": "stdout",
     "output_type": "stream",
     "text": [
      "Accuracy for class: plane is 63.1 %\n",
      "Accuracy for class: car   is 63.6 %\n",
      "Accuracy for class: bird  is 32.8 %\n",
      "Accuracy for class: cat   is 33.6 %\n",
      "Accuracy for class: deer  is 49.4 %\n",
      "Accuracy for class: dog   is 44.9 %\n",
      "Accuracy for class: frog  is 55.0 %\n",
      "Accuracy for class: horse is 39.5 %\n",
      "Accuracy for class: ship  is 50.8 %\n",
      "Accuracy for class: truck is 47.0 %\n"
     ]
    }
   ],
   "source": [
    "# prepare to count predictions for each class\n",
    "correct_pred = {classname: 0 for classname in classes}\n",
    "total_pred = {classname: 0 for classname in classes}\n",
    "\n",
    "# again no gradients needed\n",
    "with torch.no_grad():\n",
    "    for data in testloader:\n",
    "        images, labels = data\n",
    "        outputs = net(images)\n",
    "        _, predictions = torch.max(outputs, 1)\n",
    "        # collect the correct predictions for each class\n",
    "        for label, prediction in zip(labels, predictions):\n",
    "            if label == prediction:\n",
    "                correct_pred[classes[label]] += 1\n",
    "            total_pred[classes[label]] += 1\n",
    "\n",
    "\n",
    "# print accuracy for each class\n",
    "for classname, correct_count in correct_pred.items():\n",
    "    accuracy = 100 * float(correct_count) / total_pred[classname]\n",
    "    print(f'Accuracy for class: {classname:5s} is {accuracy:.1f} %')"
   ]
  },
  {
   "cell_type": "code",
   "execution_count": 16,
   "metadata": {
    "collapsed": false,
    "jupyter": {
     "outputs_hidden": false
    }
   },
   "outputs": [
    {
     "name": "stdout",
     "output_type": "stream",
     "text": [
      "cpu\n"
     ]
    }
   ],
   "source": [
    "device = torch.device('cuda:0' if torch.cuda.is_available() else 'cpu')\n",
    "\n",
    "# Assuming that we are on a CUDA machine, this should print a CUDA device:\n",
    "\n",
    "print(device)"
   ]
  },
  {
   "cell_type": "code",
   "execution_count": 17,
   "metadata": {},
   "outputs": [
    {
     "data": {
      "image/png": "[encoded data removed]",
      "text/plain": [
       "<Figure size 640x480 with 1 Axes>"
      ]
     },
     "metadata": {},
     "output_type": "display_data"
    },
    {
     "data": {
      "image/png": "[encoded data removed]",
      "text/plain": [
       "<Figure size 640x480 with 1 Axes>"
      ]
     },
     "metadata": {},
     "output_type": "display_data"
    },
    {
     "data": {
      "image/png": "[encoded data removed]",
      "text/plain": [
       "<Figure size 640x480 with 1 Axes>"
      ]
     },
     "metadata": {},
     "output_type": "display_data"
    }
   ],
   "source": [
    "# Plotting the results\n",
    "epochs = range(1, 51)\n",
    "\n",
    "plt.plot(epochs, loss_metric)\n",
    "plt.title('Loss')\n",
    "plt.show()\n",
    "\n",
    "plt.plot(epochs, training_accuracy)\n",
    "plt.title('Training Accuracy')\n",
    "plt.show()\n",
    "\n",
    "plt.plot(epochs, test_accuracy)\n",
    "plt.title('Test Accuracy')\n",
    "plt.show()"
   ]
  },
  {
   "cell_type": "code",
   "execution_count": 18,
   "metadata": {
    "collapsed": false,
    "jupyter": {
     "outputs_hidden": false
    }
   },
   "outputs": [],
   "source": [
    "del dataiter"
   ]
  }
 ],
 "metadata": {
  "kernelspec": {
   "display_name": "Python 3 (ipykernel)",
   "language": "python",
   "name": "python3"
  },
  "language_info": {
   "codemirror_mode": {
    "name": "ipython",
    "version": 3
   },
   "file_extension": ".py",
   "mimetype": "text/x-python",
   "name": "python",
   "nbconvert_exporter": "python",
   "pygments_lexer": "ipython3",
   "version": "3.12.2"
  }
 },
 "nbformat": 4,
 "nbformat_minor": 4
}
