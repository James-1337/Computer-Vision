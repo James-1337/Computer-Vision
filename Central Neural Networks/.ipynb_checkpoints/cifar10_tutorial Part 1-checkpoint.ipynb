{
 "cells": [
  {
   "cell_type": "code",
   "execution_count": 33,
   "metadata": {
    "collapsed": false,
    "jupyter": {
     "outputs_hidden": false
    }
   },
   "outputs": [],
   "source": [
    "%matplotlib inline"
   ]
  },
  {
   "cell_type": "code",
   "execution_count": 34,
   "metadata": {
    "collapsed": false,
    "jupyter": {
     "outputs_hidden": false
    }
   },
   "outputs": [],
   "source": [
    "import torch\n",
    "import torchvision\n",
    "import torchvision.transforms as transforms\n",
    "import matplotlib.pyplot as plt"
   ]
  },
  {
   "cell_type": "code",
   "execution_count": 19,
   "metadata": {
    "collapsed": false,
    "jupyter": {
     "outputs_hidden": false
    }
   },
   "outputs": [
    {
     "name": "stdout",
     "output_type": "stream",
     "text": [
      "Files already downloaded and verified\n",
      "Files already downloaded and verified\n"
     ]
    }
   ],
   "source": [
    "transform = transforms.Compose(\n",
    "    [transforms.ToTensor(),\n",
    "     transforms.Normalize((0.5, 0.5, 0.5), (0.5, 0.5, 0.5))])\n",
    "\n",
    "batch_size = 4\n",
    "\n",
    "trainset = torchvision.datasets.CIFAR10(root='./data', train=True,\n",
    "                                        download=True, transform=transform)\n",
    "trainloader = torch.utils.data.DataLoader(trainset, batch_size=batch_size,\n",
    "                                          shuffle=True, num_workers=2)\n",
    "\n",
    "testset = torchvision.datasets.CIFAR10(root='./data', train=False,\n",
    "                                       download=True, transform=transform)\n",
    "testloader = torch.utils.data.DataLoader(testset, batch_size=batch_size,\n",
    "                                         shuffle=False, num_workers=2)\n",
    "\n",
    "classes = ('plane', 'car', 'bird', 'cat',\n",
    "           'deer', 'dog', 'frog', 'horse', 'ship', 'truck')"
   ]
  },
  {
   "cell_type": "code",
   "execution_count": 20,
   "metadata": {
    "collapsed": false,
    "jupyter": {
     "outputs_hidden": false
    }
   },
   "outputs": [
    {
     "data": {
      "image/png": "[encoded data removed]",
      "text/plain": [
       "<Figure size 640x480 with 1 Axes>"
      ]
     },
     "metadata": {},
     "output_type": "display_data"
    },
    {
     "name": "stdout",
     "output_type": "stream",
     "text": [
      "dog   plane deer  deer \n"
     ]
    }
   ],
   "source": [
    "import matplotlib.pyplot as plt\n",
    "import numpy as np\n",
    "\n",
    "# functions to show an image\n",
    "\n",
    "\n",
    "def imshow(img):\n",
    "    img = img / 2 + 0.5     # unnormalize\n",
    "    npimg = img.numpy()\n",
    "    plt.imshow(np.transpose(npimg, (1, 2, 0)))\n",
    "    plt.show()\n",
    "\n",
    "\n",
    "# get some random training images\n",
    "dataiter = iter(trainloader)\n",
    "images, labels = next(dataiter)\n",
    "\n",
    "# show images\n",
    "imshow(torchvision.utils.make_grid(images))\n",
    "# print labels\n",
    "print(' '.join(f'{classes[labels[j]]:5s}' for j in range(batch_size)))"
   ]
  },
  {
   "cell_type": "code",
   "execution_count": 21,
   "metadata": {
    "collapsed": false,
    "jupyter": {
     "outputs_hidden": false
    }
   },
   "outputs": [],
   "source": [
    "import torch.nn as nn\n",
    "import torch.nn.functional as F\n",
    "\n",
    "\n",
    "class Net(nn.Module):\n",
    "    def __init__(self):\n",
    "        super().__init__()\n",
    "        self.conv1 = nn.Conv2d(3, 6, 5)\n",
    "        self.pool = nn.MaxPool2d(2, 2)\n",
    "        self.conv2 = nn.Conv2d(6, 16, 5)\n",
    "        self.fc1 = nn.Linear(16 * 5 * 5, 120)\n",
    "        self.fc2 = nn.Linear(120, 84)\n",
    "        self.fc3 = nn.Linear(84, 10)\n",
    "\n",
    "    def forward(self, x):\n",
    "        x = self.pool(F.relu(self.conv1(x)))\n",
    "        x = self.pool(F.relu(self.conv2(x)))\n",
    "        x = torch.flatten(x, 1) # flatten all dimensions except batch\n",
    "        x = F.relu(self.fc1(x))\n",
    "        x = F.relu(self.fc2(x))\n",
    "        x = self.fc3(x)\n",
    "        return x\n",
    "\n",
    "\n",
    "net = Net()"
   ]
  },
  {
   "cell_type": "code",
   "execution_count": 22,
   "metadata": {
    "collapsed": false,
    "jupyter": {
     "outputs_hidden": false
    }
   },
   "outputs": [],
   "source": [
    "import torch.optim as optim\n",
    "\n",
    "criterion = nn.CrossEntropyLoss()\n",
    "optimizer = optim.SGD(net.parameters(), lr=0.001, momentum=0.9)"
   ]
  },
  {
   "cell_type": "code",
   "execution_count": 23,
   "metadata": {
    "collapsed": false,
    "jupyter": {
     "outputs_hidden": false
    }
   },
   "outputs": [
    {
     "name": "stdout",
     "output_type": "stream",
     "text": [
      "[1,  2000] loss: 2.150\n",
      "[1,  4000] loss: 1.770\n",
      "[1,  6000] loss: 1.625\n",
      "[1,  8000] loss: 1.545\n",
      "[1, 10000] loss: 1.481\n",
      "[1, 12000] loss: 1.471\n",
      "[2,  2000] loss: 1.368\n",
      "[2,  4000] loss: 1.332\n",
      "[2,  6000] loss: 1.336\n",
      "[2,  8000] loss: 1.325\n",
      "[2, 10000] loss: 1.284\n",
      "[2, 12000] loss: 1.272\n",
      "[3,  2000] loss: 1.203\n",
      "[3,  4000] loss: 1.211\n",
      "[3,  6000] loss: 1.210\n",
      "[3,  8000] loss: 1.170\n",
      "[3, 10000] loss: 1.150\n",
      "[3, 12000] loss: 1.154\n",
      "[4,  2000] loss: 1.090\n",
      "[4,  4000] loss: 1.107\n",
      "[4,  6000] loss: 1.089\n",
      "[4,  8000] loss: 1.074\n",
      "[4, 10000] loss: 1.101\n",
      "[4, 12000] loss: 1.068\n",
      "[5,  2000] loss: 0.999\n",
      "[5,  4000] loss: 1.029\n",
      "[5,  6000] loss: 1.031\n",
      "[5,  8000] loss: 1.021\n",
      "[5, 10000] loss: 1.024\n",
      "[5, 12000] loss: 1.027\n",
      "[6,  2000] loss: 0.962\n",
      "[6,  4000] loss: 0.945\n",
      "[6,  6000] loss: 0.943\n",
      "[6,  8000] loss: 0.962\n",
      "[6, 10000] loss: 0.983\n",
      "[6, 12000] loss: 0.966\n",
      "[7,  2000] loss: 0.878\n",
      "[7,  4000] loss: 0.909\n",
      "[7,  6000] loss: 0.912\n",
      "[7,  8000] loss: 0.937\n",
      "[7, 10000] loss: 0.930\n",
      "[7, 12000] loss: 0.925\n",
      "[8,  2000] loss: 0.827\n",
      "[8,  4000] loss: 0.863\n",
      "[8,  6000] loss: 0.867\n",
      "[8,  8000] loss: 0.870\n",
      "[8, 10000] loss: 0.917\n",
      "[8, 12000] loss: 0.873\n",
      "[9,  2000] loss: 0.792\n",
      "[9,  4000] loss: 0.819\n",
      "[9,  6000] loss: 0.846\n",
      "[9,  8000] loss: 0.829\n",
      "[9, 10000] loss: 0.878\n",
      "[9, 12000] loss: 0.896\n",
      "[10,  2000] loss: 0.767\n",
      "[10,  4000] loss: 0.779\n",
      "[10,  6000] loss: 0.810\n",
      "[10,  8000] loss: 0.830\n",
      "[10, 10000] loss: 0.827\n",
      "[10, 12000] loss: 0.845\n",
      "[11,  2000] loss: 0.737\n",
      "[11,  4000] loss: 0.760\n",
      "[11,  6000] loss: 0.779\n",
      "[11,  8000] loss: 0.814\n",
      "[11, 10000] loss: 0.829\n",
      "[11, 12000] loss: 0.821\n",
      "[12,  2000] loss: 0.722\n",
      "[12,  4000] loss: 0.743\n",
      "[12,  6000] loss: 0.746\n",
      "[12,  8000] loss: 0.778\n",
      "[12, 10000] loss: 0.801\n",
      "[12, 12000] loss: 0.781\n",
      "[13,  2000] loss: 0.682\n",
      "[13,  4000] loss: 0.717\n",
      "[13,  6000] loss: 0.739\n",
      "[13,  8000] loss: 0.762\n",
      "[13, 10000] loss: 0.749\n",
      "[13, 12000] loss: 0.777\n",
      "[14,  2000] loss: 0.670\n",
      "[14,  4000] loss: 0.703\n",
      "[14,  6000] loss: 0.732\n",
      "[14,  8000] loss: 0.742\n",
      "[14, 10000] loss: 0.749\n",
      "[14, 12000] loss: 0.753\n",
      "[15,  2000] loss: 0.637\n",
      "[15,  4000] loss: 0.684\n",
      "[15,  6000] loss: 0.713\n",
      "[15,  8000] loss: 0.729\n",
      "[15, 10000] loss: 0.731\n",
      "[15, 12000] loss: 0.765\n",
      "[16,  2000] loss: 0.622\n",
      "[16,  4000] loss: 0.672\n",
      "[16,  6000] loss: 0.690\n",
      "[16,  8000] loss: 0.719\n",
      "[16, 10000] loss: 0.732\n",
      "[16, 12000] loss: 0.729\n",
      "[17,  2000] loss: 0.632\n",
      "[17,  4000] loss: 0.670\n",
      "[17,  6000] loss: 0.686\n",
      "[17,  8000] loss: 0.676\n",
      "[17, 10000] loss: 0.730\n",
      "[17, 12000] loss: 0.730\n",
      "[18,  2000] loss: 0.591\n",
      "[18,  4000] loss: 0.630\n",
      "[18,  6000] loss: 0.671\n",
      "[18,  8000] loss: 0.676\n",
      "[18, 10000] loss: 0.714\n",
      "[18, 12000] loss: 0.710\n",
      "[19,  2000] loss: 0.579\n",
      "[19,  4000] loss: 0.636\n",
      "[19,  6000] loss: 0.649\n",
      "[19,  8000] loss: 0.701\n",
      "[19, 10000] loss: 0.699\n",
      "[19, 12000] loss: 0.693\n",
      "[20,  2000] loss: 0.591\n",
      "[20,  4000] loss: 0.596\n",
      "[20,  6000] loss: 0.665\n",
      "[20,  8000] loss: 0.685\n",
      "[20, 10000] loss: 0.690\n",
      "[20, 12000] loss: 0.695\n",
      "[21,  2000] loss: 0.572\n",
      "[21,  4000] loss: 0.632\n",
      "[21,  6000] loss: 0.631\n",
      "[21,  8000] loss: 0.663\n",
      "[21, 10000] loss: 0.670\n",
      "[21, 12000] loss: 0.696\n",
      "[22,  2000] loss: 0.603\n",
      "[22,  4000] loss: 0.619\n",
      "[22,  6000] loss: 0.631\n",
      "[22,  8000] loss: 0.663\n",
      "[22, 10000] loss: 0.694\n",
      "[22, 12000] loss: 0.697\n",
      "[23,  2000] loss: 0.538\n",
      "[23,  4000] loss: 0.620\n",
      "[23,  6000] loss: 0.645\n",
      "[23,  8000] loss: 0.651\n",
      "[23, 10000] loss: 0.672\n",
      "[23, 12000] loss: 0.675\n",
      "[24,  2000] loss: 0.549\n",
      "[24,  4000] loss: 0.591\n",
      "[24,  6000] loss: 0.618\n",
      "[24,  8000] loss: 0.660\n",
      "[24, 10000] loss: 0.681\n",
      "[24, 12000] loss: 0.684\n",
      "[25,  2000] loss: 0.572\n",
      "[25,  4000] loss: 0.579\n",
      "[25,  6000] loss: 0.612\n",
      "[25,  8000] loss: 0.638\n",
      "[25, 10000] loss: 0.670\n",
      "[25, 12000] loss: 0.652\n",
      "[26,  2000] loss: 0.578\n",
      "[26,  4000] loss: 0.560\n",
      "[26,  6000] loss: 0.621\n",
      "[26,  8000] loss: 0.631\n",
      "[26, 10000] loss: 0.632\n",
      "[26, 12000] loss: 0.675\n",
      "[27,  2000] loss: 0.539\n",
      "[27,  4000] loss: 0.611\n",
      "[27,  6000] loss: 0.612\n",
      "[27,  8000] loss: 0.610\n",
      "[27, 10000] loss: 0.650\n",
      "[27, 12000] loss: 0.689\n",
      "[28,  2000] loss: 0.564\n",
      "[28,  4000] loss: 0.601\n",
      "[28,  6000] loss: 0.611\n",
      "[28,  8000] loss: 0.618\n",
      "[28, 10000] loss: 0.653\n",
      "[28, 12000] loss: 0.658\n",
      "[29,  2000] loss: 0.511\n",
      "[29,  4000] loss: 0.571\n",
      "[29,  6000] loss: 0.606\n",
      "[29,  8000] loss: 0.623\n",
      "[29, 10000] loss: 0.635\n",
      "[29, 12000] loss: 0.654\n",
      "[30,  2000] loss: 0.527\n",
      "[30,  4000] loss: 0.590\n",
      "[30,  6000] loss: 0.594\n",
      "[30,  8000] loss: 0.636\n",
      "[30, 10000] loss: 0.629\n",
      "[30, 12000] loss: 0.658\n",
      "[31,  2000] loss: 0.530\n",
      "[31,  4000] loss: 0.574\n",
      "[31,  6000] loss: 0.580\n",
      "[31,  8000] loss: 0.595\n",
      "[31, 10000] loss: 0.641\n",
      "[31, 12000] loss: 0.648\n",
      "[32,  2000] loss: 0.530\n",
      "[32,  4000] loss: 0.583\n",
      "[32,  6000] loss: 0.622\n",
      "[32,  8000] loss: 0.631\n",
      "[32, 10000] loss: 0.621\n",
      "[32, 12000] loss: 0.639\n",
      "[33,  2000] loss: 0.538\n",
      "[33,  4000] loss: 0.597\n",
      "[33,  6000] loss: 0.598\n",
      "[33,  8000] loss: 0.619\n",
      "[33, 10000] loss: 0.638\n",
      "[33, 12000] loss: 0.653\n",
      "[34,  2000] loss: 0.557\n",
      "[34,  4000] loss: 0.578\n",
      "[34,  6000] loss: 0.640\n",
      "[34,  8000] loss: 0.590\n",
      "[34, 10000] loss: 0.634\n",
      "[34, 12000] loss: 0.666\n",
      "[35,  2000] loss: 0.546\n",
      "[35,  4000] loss: 0.559\n",
      "[35,  6000] loss: 0.579\n",
      "[35,  8000] loss: 0.600\n",
      "[35, 10000] loss: 0.642\n",
      "[35, 12000] loss: 0.646\n",
      "[36,  2000] loss: 0.535\n",
      "[36,  4000] loss: 0.561\n",
      "[36,  6000] loss: 0.577\n",
      "[36,  8000] loss: 0.618\n",
      "[36, 10000] loss: 0.613\n",
      "[36, 12000] loss: 0.646\n",
      "[37,  2000] loss: 0.516\n",
      "[37,  4000] loss: 0.548\n",
      "[37,  6000] loss: 0.608\n",
      "[37,  8000] loss: 0.618\n",
      "[37, 10000] loss: 0.634\n",
      "[37, 12000] loss: 0.612\n",
      "[38,  2000] loss: 0.526\n",
      "[38,  4000] loss: 0.572\n",
      "[38,  6000] loss: 0.623\n",
      "[38,  8000] loss: 0.607\n",
      "[38, 10000] loss: 0.635\n",
      "[38, 12000] loss: 0.642\n",
      "[39,  2000] loss: 0.564\n",
      "[39,  4000] loss: 0.567\n",
      "[39,  6000] loss: 0.594\n",
      "[39,  8000] loss: 0.612\n",
      "[39, 10000] loss: 0.635\n",
      "[39, 12000] loss: 0.653\n",
      "[40,  2000] loss: 0.539\n",
      "[40,  4000] loss: 0.564\n",
      "[40,  6000] loss: 0.595\n",
      "[40,  8000] loss: 0.623\n",
      "[40, 10000] loss: 0.676\n",
      "[40, 12000] loss: 0.637\n",
      "[41,  2000] loss: 0.506\n",
      "[41,  4000] loss: 0.582\n",
      "[41,  6000] loss: 0.614\n",
      "[41,  8000] loss: 0.616\n",
      "[41, 10000] loss: 0.625\n",
      "[41, 12000] loss: 0.645\n",
      "[42,  2000] loss: 0.519\n",
      "[42,  4000] loss: 0.580\n",
      "[42,  6000] loss: 0.607\n",
      "[42,  8000] loss: 0.633\n",
      "[42, 10000] loss: 0.622\n",
      "[42, 12000] loss: 0.642\n",
      "[43,  2000] loss: 0.502\n",
      "[43,  4000] loss: 0.585\n",
      "[43,  6000] loss: 0.622\n",
      "[43,  8000] loss: 0.653\n",
      "[43, 10000] loss: 0.605\n",
      "[43, 12000] loss: 0.648\n",
      "[44,  2000] loss: 0.539\n",
      "[44,  4000] loss: 0.563\n",
      "[44,  6000] loss: 0.610\n",
      "[44,  8000] loss: 0.601\n",
      "[44, 10000] loss: 0.630\n",
      "[44, 12000] loss: 0.628\n",
      "[45,  2000] loss: 0.550\n",
      "[45,  4000] loss: 0.535\n",
      "[45,  6000] loss: 0.629\n",
      "[45,  8000] loss: 0.648\n",
      "[45, 10000] loss: 0.627\n",
      "[45, 12000] loss: 0.638\n",
      "[46,  2000] loss: 0.505\n",
      "[46,  4000] loss: 0.567\n",
      "[46,  6000] loss: 0.608\n",
      "[46,  8000] loss: 0.653\n",
      "[46, 10000] loss: 0.614\n",
      "[46, 12000] loss: 0.631\n",
      "[47,  2000] loss: 0.522\n",
      "[47,  4000] loss: 0.576\n",
      "[47,  6000] loss: 0.603\n",
      "[47,  8000] loss: 0.608\n",
      "[47, 10000] loss: 0.624\n",
      "[47, 12000] loss: 0.623\n",
      "[48,  2000] loss: 0.506\n",
      "[48,  4000] loss: 0.584\n",
      "[48,  6000] loss: 0.605\n",
      "[48,  8000] loss: 0.620\n",
      "[48, 10000] loss: 0.618\n",
      "[48, 12000] loss: 0.637\n",
      "[49,  2000] loss: 0.531\n",
      "[49,  4000] loss: 0.582\n",
      "[49,  6000] loss: 0.611\n",
      "[49,  8000] loss: 0.632\n",
      "[49, 10000] loss: 0.661\n",
      "[49, 12000] loss: 0.656\n",
      "[50,  2000] loss: 0.550\n",
      "[50,  4000] loss: 0.582\n",
      "[50,  6000] loss: 0.634\n",
      "[50,  8000] loss: 0.649\n",
      "[50, 10000] loss: 0.673\n",
      "[50, 12000] loss: 0.656\n",
      "Finished Training\n"
     ]
    }
   ],
   "source": [
    "for epoch in range(50):  # loop over the dataset multiple times\n",
    "\n",
    "    running_loss = 0.0\n",
    "    for i, data in enumerate(trainloader, 0):\n",
    "        # get the inputs; data is a list of [inputs, labels]\n",
    "        inputs, labels = data\n",
    "\n",
    "        # zero the parameter gradients\n",
    "        optimizer.zero_grad()\n",
    "\n",
    "        # forward + backward + optimize\n",
    "        outputs = net(inputs)\n",
    "        loss = criterion(outputs, labels)\n",
    "        loss.backward()\n",
    "        optimizer.step()\n",
    "\n",
    "        # print statistics\n",
    "        running_loss += loss.item()\n",
    "        if i % 2000 == 1999:    # print every 2000 mini-batches\n",
    "            print(f'[{epoch + 1}, {i + 1:5d}] loss: {running_loss / 2000:.3f}')\n",
    "            running_loss = 0.0\n",
    "\n",
    "print('Finished Training')"
   ]
  },
  {
   "cell_type": "code",
   "execution_count": 24,
   "metadata": {
    "collapsed": false,
    "jupyter": {
     "outputs_hidden": false
    }
   },
   "outputs": [],
   "source": [
    "PATH = './cifar_net.pth'\n",
    "torch.save(net.state_dict(), PATH)"
   ]
  },
  {
   "cell_type": "code",
   "execution_count": 25,
   "metadata": {
    "collapsed": false,
    "jupyter": {
     "outputs_hidden": false
    }
   },
   "outputs": [
    {
     "data": {
      "image/png": "[encoded data removed]",
      "text/plain": [
       "<Figure size 640x480 with 1 Axes>"
      ]
     },
     "metadata": {},
     "output_type": "display_data"
    },
    {
     "name": "stdout",
     "output_type": "stream",
     "text": [
      "GroundTruth:  cat   ship  ship  plane\n"
     ]
    }
   ],
   "source": [
    "dataiter = iter(testloader)\n",
    "images, labels = next(dataiter)\n",
    "\n",
    "# print images\n",
    "imshow(torchvision.utils.make_grid(images))\n",
    "print('GroundTruth: ', ' '.join(f'{classes[labels[j]]:5s}' for j in range(4)))"
   ]
  },
  {
   "cell_type": "code",
   "execution_count": 26,
   "metadata": {
    "collapsed": false,
    "jupyter": {
     "outputs_hidden": false
    }
   },
   "outputs": [
    {
     "data": {
      "text/plain": [
       "<All keys matched successfully>"
      ]
     },
     "execution_count": 26,
     "metadata": {},
     "output_type": "execute_result"
    }
   ],
   "source": [
    "net = Net()\n",
    "net.load_state_dict(torch.load(PATH, weights_only=True))"
   ]
  },
  {
   "cell_type": "code",
   "execution_count": 27,
   "metadata": {
    "collapsed": false,
    "jupyter": {
     "outputs_hidden": false
    }
   },
   "outputs": [],
   "source": [
    "outputs = net(images)"
   ]
  },
  {
   "cell_type": "code",
   "execution_count": 28,
   "metadata": {
    "collapsed": false,
    "jupyter": {
     "outputs_hidden": false
    }
   },
   "outputs": [
    {
     "name": "stdout",
     "output_type": "stream",
     "text": [
      "Predicted:  cat   truck ship  ship \n"
     ]
    }
   ],
   "source": [
    "_, predicted = torch.max(outputs, 1)\n",
    "\n",
    "print('Predicted: ', ' '.join(f'{classes[predicted[j]]:5s}'\n",
    "                              for j in range(4)))"
   ]
  },
  {
   "cell_type": "code",
   "execution_count": 29,
   "metadata": {
    "collapsed": false,
    "jupyter": {
     "outputs_hidden": false
    }
   },
   "outputs": [
    {
     "name": "stdout",
     "output_type": "stream",
     "text": [
      "Accuracy of the network on the 10000 test images: 59 %\n"
     ]
    }
   ],
   "source": [
    "correct = 0\n",
    "total = 0\n",
    "# since we're not training, we don't need to calculate the gradients for our outputs\n",
    "with torch.no_grad():\n",
    "    for data in testloader:\n",
    "        images, labels = data\n",
    "        # calculate outputs by running images through the network\n",
    "        outputs = net(images)\n",
    "        # the class with the highest energy is what we choose as prediction\n",
    "        _, predicted = torch.max(outputs.data, 1)\n",
    "        total += labels.size(0)\n",
    "        correct += (predicted == labels).sum().item()\n",
    "\n",
    "print(f'Accuracy of the network on the 10000 test images: {100 * correct // total} %')"
   ]
  },
  {
   "cell_type": "code",
   "execution_count": 30,
   "metadata": {
    "collapsed": false,
    "jupyter": {
     "outputs_hidden": false
    }
   },
   "outputs": [
    {
     "name": "stdout",
     "output_type": "stream",
     "text": [
      "Accuracy for class: plane is 69.9 %\n",
      "Accuracy for class: car   is 73.9 %\n",
      "Accuracy for class: bird  is 41.4 %\n",
      "Accuracy for class: cat   is 45.8 %\n",
      "Accuracy for class: deer  is 46.5 %\n",
      "Accuracy for class: dog   is 49.0 %\n",
      "Accuracy for class: frog  is 67.9 %\n",
      "Accuracy for class: horse is 63.2 %\n",
      "Accuracy for class: ship  is 61.1 %\n",
      "Accuracy for class: truck is 71.6 %\n"
     ]
    }
   ],
   "source": [
    "# prepare to count predictions for each class\n",
    "correct_pred = {classname: 0 for classname in classes}\n",
    "total_pred = {classname: 0 for classname in classes}\n",
    "\n",
    "# again no gradients needed\n",
    "with torch.no_grad():\n",
    "    for data in testloader:\n",
    "        images, labels = data\n",
    "        outputs = net(images)\n",
    "        _, predictions = torch.max(outputs, 1)\n",
    "        # collect the correct predictions for each class\n",
    "        for label, prediction in zip(labels, predictions):\n",
    "            if label == prediction:\n",
    "                correct_pred[classes[label]] += 1\n",
    "            total_pred[classes[label]] += 1\n",
    "\n",
    "\n",
    "# print accuracy for each class\n",
    "for classname, correct_count in correct_pred.items():\n",
    "    accuracy = 100 * float(correct_count) / total_pred[classname]\n",
    "    print(f'Accuracy for class: {classname:5s} is {accuracy:.1f} %')"
   ]
  },
  {
   "cell_type": "code",
   "execution_count": 31,
   "metadata": {
    "collapsed": false,
    "jupyter": {
     "outputs_hidden": false
    }
   },
   "outputs": [
    {
     "name": "stdout",
     "output_type": "stream",
     "text": [
      "cpu\n"
     ]
    }
   ],
   "source": [
    "device = torch.device('cuda:0' if torch.cuda.is_available() else 'cpu')\n",
    "\n",
    "# Assuming that we are on a CUDA machine, this should print a CUDA device:\n",
    "\n",
    "print(device)"
   ]
  },
  {
   "cell_type": "code",
   "execution_count": 32,
   "metadata": {
    "collapsed": false,
    "jupyter": {
     "outputs_hidden": false
    }
   },
   "outputs": [],
   "source": [
    "del dataiter"
   ]
  }
 ],
 "metadata": {
  "kernelspec": {
   "display_name": "Python 3 (ipykernel)",
   "language": "python",
   "name": "python3"
  },
  "language_info": {
   "codemirror_mode": {
    "name": "ipython",
    "version": 3
   },
   "file_extension": ".py",
   "mimetype": "text/x-python",
   "name": "python",
   "nbconvert_exporter": "python",
   "pygments_lexer": "ipython3",
   "version": "3.12.2"
  }
 },
 "nbformat": 4,
 "nbformat_minor": 4
}
